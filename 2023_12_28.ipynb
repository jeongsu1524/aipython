{
  "nbformat": 4,
  "nbformat_minor": 0,
  "metadata": {
    "colab": {
      "provenance": [],
      "authorship_tag": "ABX9TyPevSeklD0x5HKt7KxPxYRF",
      "include_colab_link": true
    },
    "kernelspec": {
      "name": "python3",
      "display_name": "Python 3"
    },
    "language_info": {
      "name": "python"
    }
  },
  "cells": [
    {
      "cell_type": "markdown",
      "metadata": {
        "id": "view-in-github",
        "colab_type": "text"
      },
      "source": [
        "<a href=\"https://colab.research.google.com/github/jeongsu1524/aipython/blob/main/2023_12_28.ipynb\" target=\"_parent\"><img src=\"https://colab.research.google.com/assets/colab-badge.svg\" alt=\"Open In Colab\"/></a>"
      ]
    },
    {
      "cell_type": "code",
      "execution_count": 5,
      "metadata": {
        "id": "AeFkiuGL_3Pp"
      },
      "outputs": [],
      "source": [
        "import numpy"
      ]
    },
    {
      "cell_type": "code",
      "source": [
        "import pandas"
      ],
      "metadata": {
        "id": "kRs-n_ODAHbc"
      },
      "execution_count": 6,
      "outputs": []
    },
    {
      "cell_type": "code",
      "source": [
        "import sys"
      ],
      "metadata": {
        "id": "airJP1NRAIfq"
      },
      "execution_count": 7,
      "outputs": []
    },
    {
      "cell_type": "code",
      "source": [
        "import os"
      ],
      "metadata": {
        "id": "wXMd-SyyAJFy"
      },
      "execution_count": 8,
      "outputs": []
    },
    {
      "cell_type": "code",
      "source": [
        "print('부산대학교')\n",
        "print('교양교육원')\n",
        "print('컴퓨터적 사고와 코딩')"
      ],
      "metadata": {
        "colab": {
          "base_uri": "https://localhost:8080/"
        },
        "id": "LXakW6XvAKkK",
        "outputId": "505f8663-02cd-462f-fe35-19f63e8f5f6c"
      },
      "execution_count": 10,
      "outputs": [
        {
          "output_type": "stream",
          "name": "stdout",
          "text": [
            "부산대학교\n",
            "교양교육원\n",
            "컴퓨터적 사고와 코딩\n"
          ]
        }
      ]
    },
    {
      "cell_type": "code",
      "source": [
        "print(\"부산대학교\")\n",
        "print(\"교양교육원\")\n",
        "print(\"컴퓨터적 사고와 코딩\")"
      ],
      "metadata": {
        "colab": {
          "base_uri": "https://localhost:8080/"
        },
        "id": "i-Zc4QnQErW5",
        "outputId": "9af29a75-7162-4415-a975-ee5792828b48"
      },
      "execution_count": 12,
      "outputs": [
        {
          "output_type": "stream",
          "name": "stdout",
          "text": [
            "부산대학교\n",
            "교양교육원\n",
            "컴퓨터적 사고와 코딩\n"
          ]
        }
      ]
    },
    {
      "cell_type": "code",
      "source": [
        "print(\"\"\"one\n",
        "two\n",
        "three\"\"\")"
      ],
      "metadata": {
        "colab": {
          "base_uri": "https://localhost:8080/"
        },
        "id": "vldBoxFVF6rY",
        "outputId": "23a9a097-9fe4-424a-d1c4-a0c3169846fa"
      },
      "execution_count": 17,
      "outputs": [
        {
          "output_type": "stream",
          "name": "stdout",
          "text": [
            "one\n",
            "two\n",
            "three\n"
          ]
        }
      ]
    },
    {
      "cell_type": "code",
      "source": [
        "#화면에 여러 줄을\n",
        "#출력하는 방법에 대한 코드입니다.\n",
        "print(\"부산대학교\")\n",
        "print(\"기초교육원\")\n",
        "print(\"컴퓨팅적 사고와 코딩\")\n"
      ],
      "metadata": {
        "colab": {
          "base_uri": "https://localhost:8080/"
        },
        "id": "9codbpbfF9Ln",
        "outputId": "c449da8a-b123-4656-a113-d3bce74d6cbf"
      },
      "execution_count": 25,
      "outputs": [
        {
          "output_type": "stream",
          "name": "stdout",
          "text": [
            "부산대학교\n",
            "기초교육원\n",
            "컴퓨팅적 사고와 코딩\n"
          ]
        }
      ]
    },
    {
      "cell_type": "code",
      "source": [
        "print(\"부산대학교\")\n",
        "print(\"기초교육원\")\n",
        "print(\"컴퓨팅적 사고와 코딩\")"
      ],
      "metadata": {
        "colab": {
          "base_uri": "https://localhost:8080/"
        },
        "id": "i26eP5m3HAk-",
        "outputId": "b8e1467f-9916-46a7-c4a9-d1eed2247b98"
      },
      "execution_count": 26,
      "outputs": [
        {
          "output_type": "stream",
          "name": "stdout",
          "text": [
            "부산대학교\n",
            "기초교육원\n",
            "컴퓨팅적 사고와 코딩\n"
          ]
        }
      ]
    }
  ]
}