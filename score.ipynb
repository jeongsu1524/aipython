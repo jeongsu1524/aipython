{
  "nbformat": 4,
  "nbformat_minor": 0,
  "metadata": {
    "colab": {
      "provenance": [],
      "authorship_tag": "ABX9TyNypu0ibSJ7Za47OQb7j3ya",
      "include_colab_link": true
    },
    "kernelspec": {
      "name": "python3",
      "display_name": "Python 3"
    },
    "language_info": {
      "name": "python"
    }
  },
  "cells": [
    {
      "cell_type": "markdown",
      "metadata": {
        "id": "view-in-github",
        "colab_type": "text"
      },
      "source": [
        "<a href=\"https://colab.research.google.com/github/jeongsu1524/aipython/blob/main/score.ipynb\" target=\"_parent\"><img src=\"https://colab.research.google.com/assets/colab-badge.svg\" alt=\"Open In Colab\"/></a>"
      ]
    },
    {
      "cell_type": "code",
      "source": [
        "scores = []\n",
        "while True:\n",
        "    input_score = input(\"점수를 입력하세요 (종료하려면 문자를 입력하세요): \")\n",
        "    if not input_score or input_score.isspace():\n",
        "        break\n",
        "    try:\n",
        "        scores.extend(map(int, input_score.split()))\n",
        "    except ValueError:\n",
        "        print(\"학생의 점수를 입력하세요.\")\n",
        "        break\n",
        "\n",
        "if not scores:\n",
        "    print(\"입력된 데이터가 없습니다.\")\n",
        "else:\n",
        "    print(\"입력 데이터 출력:\", scores)\n",
        "    print(\"합 계:\", sum(scores))\n",
        "    print(\"인원수:\", len(scores))\n",
        "    평균 = round(sum(scores) / len(scores), 3)\n",
        "    print(\"평균:\", 평균)"
      ],
      "metadata": {
        "colab": {
          "base_uri": "https://localhost:8080/"
        },
        "id": "JV-rIuEFfOU6",
        "outputId": "ead9a24b-8db6-488f-d340-3e1703de9d92"
      },
      "execution_count": 4,
      "outputs": [
        {
          "output_type": "stream",
          "name": "stdout",
          "text": [
            "점수를 입력하세요 (종료하려면 문자를 입력하세요): 90\n",
            "점수를 입력하세요 (종료하려면 문자를 입력하세요): 70\n",
            "점수를 입력하세요 (종료하려면 문자를 입력하세요): 30\n",
            "점수를 입력하세요 (종료하려면 문자를 입력하세요): x\n",
            "숫자를 입력해주세요.\n",
            "입력 데이터 출력: [90, 70, 30]\n",
            "합 계: 190\n",
            "인원수: 3\n",
            "평균: 63.333\n"
          ]
        }
      ]
    },
    {
      "cell_type": "code",
      "source": [],
      "metadata": {
        "id": "AECr9uhDfg_H"
      },
      "execution_count": null,
      "outputs": []
    }
  ]
}